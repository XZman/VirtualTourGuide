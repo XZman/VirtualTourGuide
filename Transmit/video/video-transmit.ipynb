{
 "cells": [
  {
   "cell_type": "code",
   "execution_count": 1,
   "metadata": {},
   "outputs": [],
   "source": [
    "from camera import VideoCamera\n",
    "import socket\n",
    "import numpy as np\n",
    "from tqdm import tqdm\n",
    "import cv2"
   ]
  },
  {
   "cell_type": "code",
   "execution_count": 2,
   "metadata": {},
   "outputs": [],
   "source": [
    "vc = VideoCamera(1,False)\n",
    "s = socket.socket(socket.AF_INET, socket.SOCK_DGRAM)\n",
    "dest = ('192.168.1.101',5657)"
   ]
  },
  {
   "cell_type": "code",
   "execution_count": 3,
   "metadata": {},
   "outputs": [],
   "source": [
    "def itos(q):\n",
    "    rs = ''\n",
    "    for i in range(4):\n",
    "        b = q & 0xFF\n",
    "        rs = chr(b) + rs\n",
    "        q = q >> 8\n",
    "    return bytes(rs)"
   ]
  },
  {
   "cell_type": "code",
   "execution_count": null,
   "metadata": {},
   "outputs": [],
   "source": [
    "cnt = 0\n",
    "while True:\n",
    "    imdata = vc.get_frame()\n",
    "    imlen = len(imdata)\n",
    "    imlen_b = itos(imlen)\n",
    "    s.sendto(imlen_b, dest)\n",
    "    i = 0\n",
    "    while i < imlen:\n",
    "        s.sendto(imdata[i:min(i+5000,imlen)], dest)\n",
    "        i += 5000"
   ]
  },
  {
   "cell_type": "code",
   "execution_count": 3,
   "metadata": {},
   "outputs": [],
   "source": [
    "cap = cv2.VideoCapture(1)\n",
    "ret, img = cap.read()\n",
    "cap.release()"
   ]
  },
  {
   "cell_type": "code",
   "execution_count": 4,
   "metadata": {},
   "outputs": [
    {
     "data": {
      "text/plain": [
       "32"
      ]
     },
     "execution_count": 4,
     "metadata": {},
     "output_type": "execute_result"
    }
   ],
   "source": [
    "cv2.imshow('go', img)\n",
    "cv2.waitKey(0)"
   ]
  },
  {
   "cell_type": "code",
   "execution_count": null,
   "metadata": {},
   "outputs": [],
   "source": []
  }
 ],
 "metadata": {
  "kernelspec": {
   "display_name": "Python 2",
   "language": "python",
   "name": "python2"
  },
  "language_info": {
   "codemirror_mode": {
    "name": "ipython",
    "version": 2
   },
   "file_extension": ".py",
   "mimetype": "text/x-python",
   "name": "python",
   "nbconvert_exporter": "python",
   "pygments_lexer": "ipython2",
   "version": "2.7.14"
  }
 },
 "nbformat": 4,
 "nbformat_minor": 2
}
